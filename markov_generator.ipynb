{
 "cells": [
  {
   "cell_type": "code",
   "execution_count": 16,
   "metadata": {},
   "outputs": [],
   "source": [
    "import markovify\n",
    "from __future__ import print_function"
   ]
  },
  {
   "cell_type": "code",
   "execution_count": 17,
   "metadata": {},
   "outputs": [
    {
     "name": "stdout",
     "output_type": "stream",
     "text": [
      "total num of chars: 107073\n"
     ]
    }
   ],
   "source": [
    "with open('showerthoughts.txt', 'r') as raw_file:\n",
    "    text = raw_file.read()\n",
    "print('total num of chars:', len(text))"
   ]
  },
  {
   "cell_type": "code",
   "execution_count": 18,
   "metadata": {},
   "outputs": [],
   "source": [
    "text_model = markovify.NewlineText(text)"
   ]
  },
  {
   "cell_type": "code",
   "execution_count": 21,
   "metadata": {},
   "outputs": [
    {
     "name": "stdout",
     "output_type": "stream",
     "text": [
      "Surfing the web has become like watching TV on a roller coaster at 70 mph, but bank cameras can't get a degree, or a straight man, taking a bite of a pair of glasses, they could see 360 degrees at one time.\n",
      "Victoria is living the dream we all have when we get fired - that the other side because you’re not walking around on a permanent escort mission: A low AI character tries to force its way into my mouth.\n",
      "At the age of Google, knowing the answers.\n",
      "The Office shows us that quit for health / longevity reasons.\n",
      "The whole salad dressing industry exists because people really just don't know what they want to go to school even when they have proof, I think I'm in the near future.\n"
     ]
    }
   ],
   "source": [
    "for i in range(5):\n",
    "    print(text_model.make_sentence())"
   ]
  },
  {
   "cell_type": "code",
   "execution_count": null,
   "metadata": {},
   "outputs": [],
   "source": []
  }
 ],
 "metadata": {
  "kernelspec": {
   "display_name": "Python 2",
   "language": "python",
   "name": "python2"
  },
  "language_info": {
   "codemirror_mode": {
    "name": "ipython",
    "version": 2
   },
   "file_extension": ".py",
   "mimetype": "text/x-python",
   "name": "python",
   "nbconvert_exporter": "python",
   "pygments_lexer": "ipython2",
   "version": "2.7.15"
  }
 },
 "nbformat": 4,
 "nbformat_minor": 2
}
